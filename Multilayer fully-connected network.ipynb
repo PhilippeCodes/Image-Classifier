{
 "cells": [
  {
   "cell_type": "markdown",
   "metadata": {},
   "source": [
    "# Multilayer fully-connected Network"
   ]
  },
  {
   "cell_type": "markdown",
   "metadata": {},
   "source": [
    "1. [The Tasks](#tt) <br>\n",
    "2. [Loading our Data and Libraries](#ld) <br>\n",
    "3. [Multilayer Neural Network](#nn) <br>\n",
    "4. [Plotting the Validation Accuracy](#pn) <br>"
   ]
  },
  {
   "cell_type": "markdown",
   "metadata": {},
   "source": [
    "***"
   ]
  },
  {
   "cell_type": "markdown",
   "metadata": {},
   "source": [
    "## The Tasks\n",
    "<a id=\"tt\" > "
   ]
  },
  {
   "cell_type": "markdown",
   "metadata": {},
   "source": [
    "For both networks - the fully-connected and the convolutional one\n",
    "\n",
    "- Split the data into train, validation and test sets with respectively 3200, 800 and 1000 points.\n",
    "- Train the network using small random batches of data and monitor the validation accuracy.\n",
    "- Evaluate and print the test accuracy of the tuned model.\n",
    "\n",
    "\n",
    "Using the high-level OverFeat features\n",
    "\n",
    "- Implement a 2-layer fully-connected network with dropout and L2 regularization.\n",
    "\n",
    "Using the matrix of pixels\n",
    "\n",
    "- Implement a convolutional neural network.\n",
    "- Plot the trained weights from the first convolutional layer."
   ]
  },
  {
   "cell_type": "markdown",
   "metadata": {},
   "source": [
    "***"
   ]
  },
  {
   "cell_type": "markdown",
   "metadata": {},
   "source": [
    "## Loading/Preparing our Data and Libraries\n",
    "<a id=\"ld\" > "
   ]
  },
  {
   "cell_type": "code",
   "execution_count": 1,
   "metadata": {},
   "outputs": [],
   "source": [
    "import pandas as pd\n",
    "import numpy as np\n",
    "import matplotlib.pyplot as plt\n",
    "import seaborn as sns\n",
    "from sklearn.model_selection import train_test_split\n",
    "from sklearn.preprocessing import StandardScaler\n",
    "import tensorflow as tf\n",
    "sns.set()\n",
    "%matplotlib inline"
   ]
  },
  {
   "cell_type": "code",
   "execution_count": 2,
   "metadata": {},
   "outputs": [
    {
     "name": "stdout",
     "output_type": "stream",
     "text": [
      "Our data countains dict_keys(['pixels', 'overfeat', 'labels', 'names', 'allow_pickle'])\n"
     ]
    }
   ],
   "source": [
    "with np.load('cifar4-train.npz', allow_pickle=False) as npz_file:\n",
    "    cifar4 = dict(npz_file.items())\n",
    "print('Our data countains {}'.format(cifar4.keys()))"
   ]
  },
  {
   "cell_type": "code",
   "execution_count": 3,
   "metadata": {},
   "outputs": [
    {
     "name": "stdout",
     "output_type": "stream",
     "text": [
      "Train shape: (3200, 4096)\n",
      "Validation shape: (800, 4096)\n",
      "Test shape: (1000, 4096)\n"
     ]
    }
   ],
   "source": [
    "X_of = cifar4['overfeat']\n",
    "y = cifar4['labels']\n",
    "\n",
    "# We scale our features since gradient descent is sensitive to the scale of the data\n",
    "scaler = StandardScaler()\n",
    "X_of = scaler.fit_transform(X_of)\n",
    "\n",
    "# Splitting our data into a train- and test set\n",
    "X_tr, X_te, y_tr, y_te = train_test_split(X_of, y, test_size=1800, random_state=0)\n",
    "\n",
    "# Further splitting the test set into a test- and validation set\n",
    "X_val, X_te, y_val, y_te = train_test_split(X_te, y_te, test_size=1000, random_state=0)\n",
    "\n",
    "print('Train shape:', X_tr.shape)\n",
    "print('Validation shape:', X_val.shape)\n",
    "print('Test shape:', X_te.shape)"
   ]
  },
  {
   "cell_type": "code",
   "execution_count": 4,
   "metadata": {},
   "outputs": [],
   "source": [
    "def get_batches(X, y, batch_size):\n",
    "    # Shuffle X,y\n",
    "    shuffled_idx = np.arange(len(y)) # 1,2,...,n \n",
    "    np.random.shuffle(shuffled_idx)\n",
    "    # Enumerate indexes by steps of batch_size\n",
    "    # i: e, b, 2b, 3b, 4b, .. where b is the batch size \n",
    "    for i in range(0, len(y), batch_size):\n",
    "    # Batch indexes\n",
    "        batch_idx = shuffled_idx[i :i+batch_size] \n",
    "        yield X[batch_idx], y[batch_idx]"
   ]
  },
  {
   "cell_type": "markdown",
   "metadata": {},
   "source": [
    "***"
   ]
  },
  {
   "cell_type": "markdown",
   "metadata": {},
   "source": [
    "## Multilayer Neural Network\n",
    "<a id=\"nn\" > "
   ]
  },
  {
   "cell_type": "code",
   "execution_count": 5,
   "metadata": {},
   "outputs": [],
   "source": [
    "# Create new graph\n",
    "graph = tf.Graph()\n",
    "\n",
    "with graph.as_default():\n",
    "    # Create placeholders\n",
    "    X = tf.placeholder(dtype = tf.float32, shape=[None, X_of.shape[1]])\n",
    "    y = tf.placeholder(dtype = tf.int32, shape=[None])\n",
    "    \n",
    "    # Hidden layer with 64 units\n",
    "    hidden = tf.layers.dense(\n",
    "        X, 64, activation = tf.nn.relu,  # ReLu\n",
    "        kernel_initializer = tf.variance_scaling_initializer(scale = 2, seed = 0),\n",
    "        bias_initializer=tf.zeros_initializer(), \n",
    "        name = 'hidden')\n",
    "    \n",
    "    # Output layer\n",
    "    logits = tf.layers.dense(\n",
    "        hidden, 4, activation = None, #No activation function\n",
    "        kernel_initializer = tf.variance_scaling_initializer(scale = 1, seed = 0),\n",
    "        bias_initializer = tf.zeros_initializer(),\n",
    "        name = 'output') \n",
    "    \n",
    "    # Get weights/biases of the hidden layer\n",
    "    with tf.variable_scope('hidden', reuse = True):\n",
    "        W1 = tf.get_variable('kernel')\n",
    "        b1 = tf.get_variable('bias')\n",
    "   \n",
    "    # Get weights/biases of the output layer\n",
    "    with tf.variable_scope('output', reuse = True):\n",
    "        W2 = tf.get_variable('kernel')\n",
    "        b2 = tf.get_variable('bias')"
   ]
  },
  {
   "cell_type": "code",
   "execution_count": 6,
   "metadata": {},
   "outputs": [],
   "source": [
    "with graph.as_default():\n",
    "    \n",
    "    # Create training placeholder\n",
    "    training = tf.placeholder(dtype=tf.bool)\n",
    "    \n",
    "    # Applying dropout \n",
    "    inputs = tf.layers.dropout(X, rate=0.5, seed=0.5, training=training)\n",
    "    hidden = tf.layers.dropout(hidden, rate=0.5, seed=0.5, training=training) \n",
    "    \n",
    "    # Mean cross-entropy\n",
    "    mean_ce = tf.reduce_mean(\n",
    "        tf.nn.sparse_softmax_cross_entropy_with_logits(\n",
    "            labels=y, logits=logits))\n",
    "    \n",
    "    # Learning rate placeholder\n",
    "    lr = tf.placeholder(dtype=tf.float32)\n",
    "    # Create the optimizer\n",
    "    gd = tf.train.GradientDescentOptimizer(learning_rate=lr)\n",
    "    \n",
    "    # L2 term\n",
    "    l2_term_W1 = tf.nn.l2_loss(W1)\n",
    "    l2_term_W2 = tf.nn.l2_loss(W2)\n",
    "    \n",
    "    # Regularization strength\n",
    "    alpha = tf.placeholder(dtype=tf.float32)\n",
    "    \n",
    "    # Loss function\n",
    "    loss = mean_ce + alpha * (l2_term_W1 + l2_term_W2)\n",
    "        \n",
    "    # Create a training operation\n",
    "    train_op = gd.minimize(loss)\n",
    "    \n",
    "    # Computing predictions/accuracy\n",
    "    predictions = tf.argmax(logits, axis=1, output_type=tf.int32)\n",
    "    is_correct = tf.equal(y, predictions)\n",
    "    accuracy = tf.reduce_mean(tf.cast(is_correct, dtype=tf.float32))"
   ]
  },
  {
   "cell_type": "code",
   "execution_count": 7,
   "metadata": {},
   "outputs": [
    {
     "name": "stdout",
     "output_type": "stream",
     "text": [
      "Epoch5 - valid: 0.548 train: 0.561 (mean)\n",
      "Epoch10 - valid: 0.652 train: 0.679 (mean)\n",
      "Epoch15 - valid: 0.707 train: 0.743 (mean)\n",
      "Epoch20 - valid: 0.734 train: 0.772 (mean)\n",
      "Epoch25 - valid: 0.751 train: 0.791 (mean)\n",
      "Epoch30 - valid: 0.761 train: 0.804 (mean)\n",
      "Epoch35 - valid: 0.766 train: 0.811 (mean)\n",
      "Epoch40 - valid: 0.777 train: 0.820 (mean)\n",
      "Epoch45 - valid: 0.783 train: 0.824 (mean)\n",
      "Epoch50 - valid: 0.786 train: 0.831 (mean)\n",
      "Epoch55 - valid: 0.785 train: 0.839 (mean)\n",
      "Epoch60 - valid: 0.790 train: 0.843 (mean)\n",
      "Epoch65 - valid: 0.790 train: 0.845 (mean)\n",
      "Epoch70 - valid: 0.790 train: 0.847 (mean)\n",
      "Epoch75 - valid: 0.793 train: 0.852 (mean)\n",
      "Epoch80 - valid: 0.794 train: 0.855 (mean)\n",
      "Epoch85 - valid: 0.796 train: 0.857 (mean)\n",
      "Epoch90 - valid: 0.799 train: 0.859 (mean)\n",
      "Epoch95 - valid: 0.798 train: 0.861 (mean)\n",
      "Epoch100 - valid: 0.800 train: 0.865 (mean)\n",
      "Epoch105 - valid: 0.800 train: 0.866 (mean)\n",
      "Epoch110 - valid: 0.799 train: 0.867 (mean)\n",
      "Epoch115 - valid: 0.803 train: 0.868 (mean)\n",
      "Epoch120 - valid: 0.806 train: 0.870 (mean)\n",
      "Epoch125 - valid: 0.806 train: 0.870 (mean)\n",
      "Epoch130 - valid: 0.806 train: 0.872 (mean)\n",
      "Epoch135 - valid: 0.808 train: 0.874 (mean)\n",
      "Epoch140 - valid: 0.810 train: 0.874 (mean)\n",
      "Epoch145 - valid: 0.812 train: 0.877 (mean)\n",
      "Epoch150 - valid: 0.812 train: 0.879 (mean)\n",
      "Epoch155 - valid: 0.817 train: 0.881 (mean)\n",
      "Epoch160 - valid: 0.819 train: 0.882 (mean)\n",
      "Epoch165 - valid: 0.819 train: 0.882 (mean)\n",
      "Epoch170 - valid: 0.816 train: 0.884 (mean)\n",
      "Epoch175 - valid: 0.815 train: 0.886 (mean)\n",
      "Epoch180 - valid: 0.815 train: 0.886 (mean)\n",
      "Epoch185 - valid: 0.817 train: 0.888 (mean)\n",
      "Epoch190 - valid: 0.817 train: 0.891 (mean)\n",
      "Epoch195 - valid: 0.819 train: 0.891 (mean)\n",
      "Epoch200 - valid: 0.819 train: 0.894 (mean)\n",
      "Accuracy of our Network on the test set: 0.813\n",
      "Accuracy of our Network on the validation set: 0.819\n"
     ]
    }
   ],
   "source": [
    "# Validation Accuracy\n",
    "valid_acc_values = []\n",
    "\n",
    "with tf.Session(graph=graph) as sess:\n",
    "    # Initialize variables\n",
    "    sess.run(tf.global_variables_initializer())\n",
    "    \n",
    "    # Set seed\n",
    "    np.random.seed(0)\n",
    "    \n",
    "    # Train several epochs\n",
    "    for epoch in range(200):\n",
    "        batch_acc = []\n",
    "        \n",
    "        for X_batch,y_batch in get_batches(X_tr, y_tr, 300):\n",
    "            # Run training and evaluate accuracy\n",
    "            _, acc_value = sess.run([train_op, accuracy],\n",
    "                                     feed_dict={X: X_batch,\n",
    "                                                y: y_batch, lr: 0.001,\n",
    "                                                training: True,\n",
    "                                                alpha: 0.001})\n",
    "            \n",
    "            # Save accuracy (current batch)\n",
    "            batch_acc.append(acc_value)\n",
    "            \n",
    "        # Evaluate validation accuracy\n",
    "        valid_acc = sess.run(accuracy, \n",
    "                             feed_dict={X: X_val, \n",
    "                                        y: y_val, \n",
    "                                        training:False})\n",
    "        \n",
    "        valid_acc_values.append(valid_acc)\n",
    "              \n",
    "        \n",
    "        if (epoch+1)%5==0: \n",
    "            print('Epoch{} - valid: {:.3f} train: {:.3f} (mean)'.format(epoch+1, \n",
    "                                                                    valid_acc, \n",
    "                                                                    np.mean(batch_acc)))   \n",
    "        \n",
    "    # Evaluate test accuracy\n",
    "    test_acc = sess.run(accuracy, \n",
    "                        feed_dict={X: X_te, \n",
    "                                   y: y_te})\n",
    "    \n",
    "    print('Accuracy of our Network on the test set: {:.3f}'.format(test_acc))   \n",
    "    print('Accuracy of our Network on the validation set: {:.3f}'.format(valid_acc))   \n",
    "\n",
    "    weights_hidden = W1.eval()\n",
    "    weights_hidden = W2.eval()"
   ]
  },
  {
   "cell_type": "markdown",
   "metadata": {},
   "source": [
    "***"
   ]
  },
  {
   "cell_type": "markdown",
   "metadata": {},
   "source": [
    "## Plotting the Validation Accuracy\n",
    "<a id=\"pn\" > "
   ]
  },
  {
   "cell_type": "code",
   "execution_count": 8,
   "metadata": {},
   "outputs": [
    {
     "data": {
      "image/png": "[encoded data removed]",
      "text/plain": [
       "<matplotlib.figure.Figure at 0x1a1be8a240>"
      ]
     },
     "metadata": {
      "needs_background": "light"
     },
     "output_type": "display_data"
    }
   ],
   "source": [
    "fig = plt.figure(figsize=(15, 10))\n",
    "plt.plot(valid_acc_values)\n",
    "plt.title('Validation accuracy {:.3f} (mean last 20)'.format(np.mean(valid_acc_values[-20:])))\n",
    "plt.xlabel('Epoch')\n",
    "plt.ylabel('Accuracy')\n",
    "plt.show()"
   ]
  }
 ],
 "metadata": {
  "kernelspec": {
   "display_name": "Python 3",
   "language": "python",
   "name": "python3"
  },
  "language_info": {
   "codemirror_mode": {
    "name": "ipython",
    "version": 3
   },
   "file_extension": ".py",
   "mimetype": "text/x-python",
   "name": "python",
   "nbconvert_exporter": "python",
   "pygments_lexer": "ipython3",
   "version": "3.6.4"
  }
 },
 "nbformat": 4,
 "nbformat_minor": 2
}
