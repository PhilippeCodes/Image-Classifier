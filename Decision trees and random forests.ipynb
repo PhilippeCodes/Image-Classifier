{
 "cells": [
  {
   "cell_type": "markdown",
   "metadata": {},
   "source": [
    "# Decision Trees and Random Forests"
   ]
  },
  {
   "cell_type": "markdown",
   "metadata": {},
   "source": [
    "1. [The Tasks](#tt) <br>\n",
    "2. [Loading our Data and Libraries](#ld) <br>\n",
    "3. [Decision Tree](#dt) <br>\n",
    "4. [Random Forest](#rf) <br>\n",
    "5. [Tuned Models](#tm) <br>"
   ]
  },
  {
   "cell_type": "markdown",
   "metadata": {},
   "source": [
    "***"
   ]
  },
  {
   "cell_type": "markdown",
   "metadata": {},
   "source": [
    "## The Tasks\n",
    "<a id=\"tt\" > "
   ]
  },
  {
   "cell_type": "markdown",
   "metadata": {},
   "source": [
    "For the decision tree model - using the high-level OverFeat features\n",
    "\n",
    "- Split the train set into a (smaller) train and validation sets with respectively 3,200 and 800 points.\n",
    "- Tune the depth parameter using grid search and plot the validation curve as described. Write your observations.\n",
    "- Find the depth with the best validation accuracy and print it.  \n",
    "\n",
    "\n",
    "For the random forest model - using the high-level OverFeat features\n",
    "\n",
    "- Try different sizes of ensemble.\n",
    "- Print their accuracy on the validation set.\n",
    "\n",
    "\n",
    "For both models\n",
    "\n",
    "- You might want to use PCA as a preprocessing step. In any case, justify your choice.\n",
    "- Fit the tuned estimators on the entire train set with 4,000 data points. Evaluate and print the test accuracy."
   ]
  },
  {
   "cell_type": "markdown",
   "metadata": {},
   "source": [
    "***"
   ]
  },
  {
   "cell_type": "markdown",
   "metadata": {},
   "source": [
    "## Loading/Preparing our Data and Libraries\n",
    "<a id=\"ld\" > "
   ]
  },
  {
   "cell_type": "code",
   "execution_count": 1,
   "metadata": {},
   "outputs": [],
   "source": [
    "import pandas as pd\n",
    "import numpy as np\n",
    "import matplotlib.pyplot as plt\n",
    "import seaborn as sns\n",
    "from sklearn.model_selection import train_test_split, ParameterGrid\n",
    "from sklearn.pipeline import Pipeline\n",
    "from sklearn.decomposition import PCA\n",
    "from sklearn.tree import DecisionTreeClassifier\n",
    "from sklearn.ensemble import RandomForestClassifier\n",
    "sns.set()\n",
    "%matplotlib inline"
   ]
  },
  {
   "cell_type": "code",
   "execution_count": 2,
   "metadata": {},
   "outputs": [
    {
     "name": "stdout",
     "output_type": "stream",
     "text": [
      "Our data countains dict_keys(['pixels', 'overfeat', 'labels', 'names', 'allow_pickle'])\n"
     ]
    }
   ],
   "source": [
    "with np.load('cifar4-train.npz', allow_pickle=False) as npz_file:\n",
    "    cifar4 = dict(npz_file.items())\n",
    "print('Our data countains {}'.format(cifar4.keys()))"
   ]
  },
  {
   "cell_type": "code",
   "execution_count": 3,
   "metadata": {},
   "outputs": [
    {
     "name": "stdout",
     "output_type": "stream",
     "text": [
      "There are 5,000 rows and 4096 columns in our X dataset\n",
      "There are 5,000 rows in our y dataset \n",
      "X has datatype: float32\n",
      "y has datatype: int64\n"
     ]
    }
   ],
   "source": [
    "X_of = cifar4['overfeat']\n",
    "y = cifar4['labels']\n",
    "names = cifar4['names']\n",
    "\n",
    "print('There are {:,} rows '.format(X_of.shape[0]) + 'and {} columns in our X dataset'.format(X_of.shape[1]))\n",
    "print('There are {:,} rows in our y dataset '.format(y.shape[0]))\n",
    "\n",
    "print('X has datatype:', X_of.dtype)\n",
    "print('y has datatype:', y.dtype)\n",
    "\n",
    "# We split our data and make sure that the sets have the same proportion of datapoints in each class by setting stratify=y\n",
    "X_tr, X_te, y_tr, y_te = train_test_split(X_of, y, test_size=1000, random_state=0, stratify=y)\n",
    "# Further splitting the test set into a test- and validation set\n",
    "X_tr_2, X_val, y_tr_2, y_val = train_test_split(X_tr, y_tr, test_size=800, random_state=0, stratify=y_tr)"
   ]
  },
  {
   "cell_type": "markdown",
   "metadata": {},
   "source": [
    "***"
   ]
  },
  {
   "cell_type": "markdown",
   "metadata": {},
   "source": [
    "## Decision Tree\n",
    "<a id=\"dt\" > "
   ]
  },
  {
   "cell_type": "code",
   "execution_count": 4,
   "metadata": {},
   "outputs": [],
   "source": [
    "# We use pca as preproccessing and set it to 200 in order to retain 90+% of the variance and prevent overfitting\n",
    "pipe = Pipeline([('pca', PCA(n_components=200)),\n",
    "                 ('tree', DecisionTreeClassifier())])"
   ]
  },
  {
   "cell_type": "code",
   "execution_count": 5,
   "metadata": {},
   "outputs": [
    {
     "name": "stdout",
     "output_type": "stream",
     "text": [
      "There are 19 possible combinations\n"
     ]
    }
   ],
   "source": [
    "# We try different levels of depth\n",
    "n_depths = np.arange(1, 20)\n",
    "#criterion = ('gini','entropy')\n",
    "#n_components=  np.arange(100, 1000, 100)\n",
    "\n",
    "grid = ParameterGrid({'tree__max_depth': n_depths,\n",
    "#                     'tree__criterion': criterion\n",
    "#                     'pca__n_components': n_components\n",
    "                     })\n",
    "\n",
    "print ('There are {} possible combinations'.format(len(grid)))"
   ]
  },
  {
   "cell_type": "code",
   "execution_count": 6,
   "metadata": {},
   "outputs": [],
   "source": [
    "train_tree_scores = []\n",
    "val_tree_scores = []\n",
    "\n",
    "# Grid search\n",
    "for params_dict in grid:\n",
    "    pipe.set_params(**params_dict)\n",
    "    pipe.fit(X_tr_2, y_tr_2)\n",
    "    params_dict['accuracy'] = pipe.score(X_tr_2, y_tr_2)\n",
    "    train_tree_scores.append(params_dict)\n",
    "    \n",
    "for params_dict in grid:\n",
    "    pipe.set_params(**params_dict)\n",
    "    pipe.fit(X_tr_2, y_tr_2)\n",
    "    params_dict['accuracy'] = pipe.score(X_val, y_val)\n",
    "    val_tree_scores.append(params_dict)"
   ]
  },
  {
   "cell_type": "code",
   "execution_count": 7,
   "metadata": {},
   "outputs": [
    {
     "data": {
      "text/html": [
       "<div>\n",
       "<style scoped>\n",
       "    .dataframe tbody tr th:only-of-type {\n",
       "        vertical-align: middle;\n",
       "    }\n",
       "\n",
       "    .dataframe tbody tr th {\n",
       "        vertical-align: top;\n",
       "    }\n",
       "\n",
       "    .dataframe thead th {\n",
       "        text-align: right;\n",
       "    }\n",
       "</style>\n",
       "<table border=\"1\" class=\"dataframe\">\n",
       "  <thead>\n",
       "    <tr style=\"text-align: right;\">\n",
       "      <th></th>\n",
       "      <th>accuracy</th>\n",
       "      <th>tree__max_depth</th>\n",
       "    </tr>\n",
       "  </thead>\n",
       "  <tbody>\n",
       "    <tr>\n",
       "      <th>18</th>\n",
       "      <td>0.995938</td>\n",
       "      <td>19</td>\n",
       "    </tr>\n",
       "    <tr>\n",
       "      <th>17</th>\n",
       "      <td>0.995938</td>\n",
       "      <td>18</td>\n",
       "    </tr>\n",
       "    <tr>\n",
       "      <th>16</th>\n",
       "      <td>0.992812</td>\n",
       "      <td>17</td>\n",
       "    </tr>\n",
       "    <tr>\n",
       "      <th>14</th>\n",
       "      <td>0.990625</td>\n",
       "      <td>15</td>\n",
       "    </tr>\n",
       "    <tr>\n",
       "      <th>15</th>\n",
       "      <td>0.989375</td>\n",
       "      <td>16</td>\n",
       "    </tr>\n",
       "  </tbody>\n",
       "</table>\n",
       "</div>"
      ],
      "text/plain": [
       "    accuracy  tree__max_depth\n",
       "18  0.995938               19\n",
       "17  0.995938               18\n",
       "16  0.992812               17\n",
       "14  0.990625               15\n",
       "15  0.989375               16"
      ]
     },
     "execution_count": 7,
     "metadata": {},
     "output_type": "execute_result"
    }
   ],
   "source": [
    "train_tree_df = pd.DataFrame(train_tree_scores)\n",
    "train_tree_df.sort_values(by='accuracy', ascending=False).head()"
   ]
  },
  {
   "cell_type": "code",
   "execution_count": 8,
   "metadata": {},
   "outputs": [
    {
     "data": {
      "text/html": [
       "<div>\n",
       "<style scoped>\n",
       "    .dataframe tbody tr th:only-of-type {\n",
       "        vertical-align: middle;\n",
       "    }\n",
       "\n",
       "    .dataframe tbody tr th {\n",
       "        vertical-align: top;\n",
       "    }\n",
       "\n",
       "    .dataframe thead th {\n",
       "        text-align: right;\n",
       "    }\n",
       "</style>\n",
       "<table border=\"1\" class=\"dataframe\">\n",
       "  <thead>\n",
       "    <tr style=\"text-align: right;\">\n",
       "      <th></th>\n",
       "      <th>accuracy</th>\n",
       "      <th>tree__max_depth</th>\n",
       "    </tr>\n",
       "  </thead>\n",
       "  <tbody>\n",
       "    <tr>\n",
       "      <th>4</th>\n",
       "      <td>0.65250</td>\n",
       "      <td>5</td>\n",
       "    </tr>\n",
       "    <tr>\n",
       "      <th>3</th>\n",
       "      <td>0.64875</td>\n",
       "      <td>4</td>\n",
       "    </tr>\n",
       "    <tr>\n",
       "      <th>6</th>\n",
       "      <td>0.64125</td>\n",
       "      <td>7</td>\n",
       "    </tr>\n",
       "    <tr>\n",
       "      <th>5</th>\n",
       "      <td>0.63625</td>\n",
       "      <td>6</td>\n",
       "    </tr>\n",
       "    <tr>\n",
       "      <th>10</th>\n",
       "      <td>0.63375</td>\n",
       "      <td>11</td>\n",
       "    </tr>\n",
       "  </tbody>\n",
       "</table>\n",
       "</div>"
      ],
      "text/plain": [
       "    accuracy  tree__max_depth\n",
       "4    0.65250                5\n",
       "3    0.64875                4\n",
       "6    0.64125                7\n",
       "5    0.63625                6\n",
       "10   0.63375               11"
      ]
     },
     "execution_count": 8,
     "metadata": {},
     "output_type": "execute_result"
    }
   ],
   "source": [
    "valid_tree_df = pd.DataFrame(val_tree_scores)\n",
    "valid_tree_df.sort_values(by='accuracy', ascending=False).head()"
   ]
  },
  {
   "cell_type": "code",
   "execution_count": 9,
   "metadata": {},
   "outputs": [
    {
     "data": {
      "image/png": "[encoded data removed]",
      "text/plain": [
       "<matplotlib.figure.Figure at 0x1a1813e668>"
      ]
     },
     "metadata": {
      "needs_background": "light"
     },
     "output_type": "display_data"
    }
   ],
   "source": [
    "fig = plt.figure(figsize=(15, 10))\n",
    "plt.plot(valid_tree_df['accuracy'], label='Validation Set')\n",
    "plt.plot(train_tree_df['accuracy'], label='Train Set')\n",
    "plt.ylim(0)\n",
    "plt.title('Validation Curve Tree-Depth ')\n",
    "plt.xlabel('Tree Depth')\n",
    "plt.ylabel('Accuracy')\n",
    "plt.legend()\n",
    "plt.show()"
   ]
  },
  {
   "cell_type": "markdown",
   "metadata": {},
   "source": [
    "After a depth of about 3-5, our model seems to overfit."
   ]
  },
  {
   "cell_type": "code",
   "execution_count": 10,
   "metadata": {},
   "outputs": [
    {
     "name": "stdout",
     "output_type": "stream",
     "text": [
      "Our best accuracy on the train set is 0.9959375 and was achieves with a depth of 18\n"
     ]
    }
   ],
   "source": [
    "best_tr = train_tree_df['accuracy'].idxmax()\n",
    "print ('Our best accuracy on the train set is {} and was achieves with a depth of {}'\n",
    "       .format(train_tree_df.loc[best_tr,'accuracy'], train_tree_df.loc[best_tr,'tree__max_depth']))"
   ]
  },
  {
   "cell_type": "code",
   "execution_count": 11,
   "metadata": {},
   "outputs": [
    {
     "name": "stdout",
     "output_type": "stream",
     "text": [
      "Our best accuracy on the validation set is 0.6525 and was achieves with a depth of 5\n"
     ]
    }
   ],
   "source": [
    "best_val = valid_tree_df['accuracy'].idxmax()\n",
    "print ('Our best accuracy on the validation set is {} and was achieves with a depth of {}'\n",
    "       .format(valid_tree_df.loc[best_val,'accuracy'], valid_tree_df.loc[best_val,'tree__max_depth']))"
   ]
  },
  {
   "cell_type": "markdown",
   "metadata": {},
   "source": [
    "***"
   ]
  },
  {
   "cell_type": "markdown",
   "metadata": {},
   "source": [
    "## Random Forest\n",
    "<a id=\"rf\" > "
   ]
  },
  {
   "cell_type": "code",
   "execution_count": 12,
   "metadata": {},
   "outputs": [],
   "source": [
    "pipe = Pipeline([('pca', PCA(n_components=200)),\n",
    "                 ('forest', RandomForestClassifier())])"
   ]
  },
  {
   "cell_type": "code",
   "execution_count": 13,
   "metadata": {},
   "outputs": [
    {
     "name": "stdout",
     "output_type": "stream",
     "text": [
      "There are 28 possible combinations\n"
     ]
    }
   ],
   "source": [
    "# We try different numbers of trees\n",
    "estimators = np.arange(100, 800, 25)\n",
    "\n",
    "grid = ParameterGrid({'forest__n_estimators': estimators,\n",
    "                     })\n",
    "print ('There are {} possible combinations'.format(len(grid)))"
   ]
  },
  {
   "cell_type": "code",
   "execution_count": 14,
   "metadata": {},
   "outputs": [],
   "source": [
    "val_forrest_scores = []\n",
    "\n",
    "for params_dict in grid:\n",
    "    pipe.set_params(**params_dict)\n",
    "    pipe.fit(X_tr_2, y_tr_2)\n",
    "    params_dict['accuracy'] = pipe.score(X_val, y_val)\n",
    "    val_forrest_scores.append(params_dict)"
   ]
  },
  {
   "cell_type": "code",
   "execution_count": 15,
   "metadata": {},
   "outputs": [
    {
     "data": {
      "text/html": [
       "<div>\n",
       "<style scoped>\n",
       "    .dataframe tbody tr th:only-of-type {\n",
       "        vertical-align: middle;\n",
       "    }\n",
       "\n",
       "    .dataframe tbody tr th {\n",
       "        vertical-align: top;\n",
       "    }\n",
       "\n",
       "    .dataframe thead th {\n",
       "        text-align: right;\n",
       "    }\n",
       "</style>\n",
       "<table border=\"1\" class=\"dataframe\">\n",
       "  <thead>\n",
       "    <tr style=\"text-align: right;\">\n",
       "      <th></th>\n",
       "      <th>accuracy</th>\n",
       "      <th>forest__n_estimators</th>\n",
       "    </tr>\n",
       "  </thead>\n",
       "  <tbody>\n",
       "    <tr>\n",
       "      <th>17</th>\n",
       "      <td>0.78625</td>\n",
       "      <td>525</td>\n",
       "    </tr>\n",
       "    <tr>\n",
       "      <th>16</th>\n",
       "      <td>0.78500</td>\n",
       "      <td>500</td>\n",
       "    </tr>\n",
       "    <tr>\n",
       "      <th>21</th>\n",
       "      <td>0.77875</td>\n",
       "      <td>625</td>\n",
       "    </tr>\n",
       "    <tr>\n",
       "      <th>20</th>\n",
       "      <td>0.77875</td>\n",
       "      <td>600</td>\n",
       "    </tr>\n",
       "    <tr>\n",
       "      <th>24</th>\n",
       "      <td>0.77500</td>\n",
       "      <td>700</td>\n",
       "    </tr>\n",
       "    <tr>\n",
       "      <th>25</th>\n",
       "      <td>0.77500</td>\n",
       "      <td>725</td>\n",
       "    </tr>\n",
       "    <tr>\n",
       "      <th>19</th>\n",
       "      <td>0.77500</td>\n",
       "      <td>575</td>\n",
       "    </tr>\n",
       "    <tr>\n",
       "      <th>23</th>\n",
       "      <td>0.77500</td>\n",
       "      <td>675</td>\n",
       "    </tr>\n",
       "    <tr>\n",
       "      <th>22</th>\n",
       "      <td>0.77375</td>\n",
       "      <td>650</td>\n",
       "    </tr>\n",
       "    <tr>\n",
       "      <th>4</th>\n",
       "      <td>0.77375</td>\n",
       "      <td>200</td>\n",
       "    </tr>\n",
       "  </tbody>\n",
       "</table>\n",
       "</div>"
      ],
      "text/plain": [
       "    accuracy  forest__n_estimators\n",
       "17   0.78625                   525\n",
       "16   0.78500                   500\n",
       "21   0.77875                   625\n",
       "20   0.77875                   600\n",
       "24   0.77500                   700\n",
       "25   0.77500                   725\n",
       "19   0.77500                   575\n",
       "23   0.77500                   675\n",
       "22   0.77375                   650\n",
       "4    0.77375                   200"
      ]
     },
     "execution_count": 15,
     "metadata": {},
     "output_type": "execute_result"
    }
   ],
   "source": [
    "# Top ten validation-scores\n",
    "forest_df = pd.DataFrame(val_forrest_scores)\n",
    "forest_df.sort_values(by='accuracy', ascending=False).head(10)"
   ]
  },
  {
   "cell_type": "code",
   "execution_count": 16,
   "metadata": {},
   "outputs": [
    {
     "data": {
      "image/png": "[encoded data removed]",
      "text/plain": [
       "<matplotlib.figure.Figure at 0x1a180e3fd0>"
      ]
     },
     "metadata": {
      "needs_background": "light"
     },
     "output_type": "display_data"
    }
   ],
   "source": [
    "forest_df.plot(x = forest_df['forest__n_estimators'], y ='accuracy', figsize=(15,10))\n",
    "plt.title('Validation Curve Number of Trees ')\n",
    "plt.ylabel('Accuracy')\n",
    "plt.xlabel('number of trees in the forest')\n",
    "plt.show()"
   ]
  },
  {
   "cell_type": "code",
   "execution_count": 17,
   "metadata": {},
   "outputs": [
    {
     "name": "stdout",
     "output_type": "stream",
     "text": [
      "Our best accuracy in the train set is 0.78625 and was achieves with 525 estimators\n"
     ]
    }
   ],
   "source": [
    "best_forrest = forest_df['accuracy'].idxmax()\n",
    "print ('Our best accuracy in the train set is {} and was achieves with {} estimators'\n",
    "       .format(forest_df.loc[best_forrest, 'accuracy'], forest_df.loc[best_forrest, 'forest__n_estimators']))"
   ]
  },
  {
   "cell_type": "markdown",
   "metadata": {},
   "source": [
    "***"
   ]
  },
  {
   "cell_type": "markdown",
   "metadata": {},
   "source": [
    "## Tuned Models\n",
    "<a id=\"tm\" > "
   ]
  },
  {
   "cell_type": "code",
   "execution_count": 18,
   "metadata": {},
   "outputs": [
    {
     "name": "stdout",
     "output_type": "stream",
     "text": [
      "Decision tree accuracy on the test set: 0.646\n"
     ]
    }
   ],
   "source": [
    "# Tuned Tree\n",
    "tree = DecisionTreeClassifier(max_depth= valid_tree_df.loc[best_val,'tree__max_depth'])\n",
    "pca = PCA(n_components=200)\n",
    "pipe = Pipeline([('pca', pca),\n",
    "                 ('tree', tree)])\n",
    "\n",
    "pipe.fit(X_tr, y_tr)\n",
    "acc_tree_tuned = pipe.score(X_te, y_te)\n",
    "print ('Decision tree accuracy on the test set: {:.3f}'.format(acc_tree_tuned))"
   ]
  },
  {
   "cell_type": "code",
   "execution_count": 19,
   "metadata": {},
   "outputs": [
    {
     "name": "stdout",
     "output_type": "stream",
     "text": [
      "Random forest accuracy on the test set: 0.775\n"
     ]
    }
   ],
   "source": [
    "# Tuned Forrest\n",
    "forest = RandomForestClassifier(n_estimators= forest_df.loc[best_forrest,'forest__n_estimators'])\n",
    "pipe = Pipeline([('pca', pca),\n",
    "                 ('forest', forest)])\n",
    "\n",
    "pipe.fit(X_tr, y_tr)\n",
    "acc_forest_tuned = pipe.score(X_te, y_te)\n",
    "print ('Random forest accuracy on the test set: {:.3f}'.format(acc_forest_tuned))"
   ]
  }
 ],
 "metadata": {
  "kernelspec": {
   "display_name": "Python 3",
   "language": "python",
   "name": "python3"
  },
  "language_info": {
   "codemirror_mode": {
    "name": "ipython",
    "version": 3
   },
   "file_extension": ".py",
   "mimetype": "text/x-python",
   "name": "python",
   "nbconvert_exporter": "python",
   "pygments_lexer": "ipython3",
   "version": "3.6.4"
  }
 },
 "nbformat": 4,
 "nbformat_minor": 2
}
